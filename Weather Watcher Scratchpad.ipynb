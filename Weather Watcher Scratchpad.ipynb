{
 "cells": [
  {
   "cell_type": "code",
   "execution_count": 102,
   "metadata": {},
   "outputs": [],
   "source": [
    "from bs4 import BeautifulSoup\n",
    "import requests\n",
    "from credentials import SLACK_WEBHOOK"
   ]
  },
  {
   "cell_type": "code",
   "execution_count": 103,
   "metadata": {},
   "outputs": [
    {
     "name": "stdout",
     "output_type": "stream",
     "text": [
      "Forecast has been seen\n"
     ]
    }
   ],
   "source": [
    "LAST_UPDATE_FILE_PATH = 'last_update.txt'\n",
    "NEW_FORECAST = 'There is a new forecast! https://booneweather.com/Forecast/Boone'\n",
    "\n",
    "def get_rays_weather_content():\n",
    "    resp = requests.get('https://booneweather.com/Forecast/Boone')\n",
    "    if resp.ok:\n",
    "        return resp\n",
    "    else:\n",
    "        raise Exception('Unable to load content')\n",
    "        \n",
    "def get_last_update_str(soup):\n",
    "    forecast_texts = soup.find_all('p', {'class': 'forecast_text'})\n",
    "    forecast_items = next(iter([f for f in forecast_texts if 'last updated' in f.text.lower()]), None)\n",
    "    return forecast_items.text\n",
    "\n",
    "def read_file_path(file_path):\n",
    "    with open(file_path, 'r+') as last_update_file:\n",
    "        return last_update_file.read()\n",
    "    \n",
    "def overwrite_file_path(file_path, contents):\n",
    "    with open(file_path, 'w+') as last_update_file:\n",
    "        last_update_file.write(contents)\n",
    "\n",
    "def send_message():\n",
    "    requests.post(SLACK_WEBHOOK, json={'text':NEW_FORECAST})\n",
    "\n",
    "rays_weather_content = get_rays_weather_content()\n",
    "rays_weather_soup = BeautifulSoup(rays_weather_content.text)\n",
    "last_update_str = get_last_update_str(rays_weather_soup)\n",
    "\n",
    "cached_update_str = read_file_path(LAST_UPDATE_FILE_PATH)\n",
    "if last_update_str == cached_update_str:\n",
    "    print('Forecast has been seen')\n",
    "else:\n",
    "    print('New forecast!')\n",
    "    overwrite_file_path(LAST_UPDATE_FILE_PATH, last_update_str)\n",
    "    send_message()\n"
   ]
  }
 ],
 "metadata": {
  "kernelspec": {
   "display_name": "base",
   "language": "python",
   "name": "base"
  },
  "language_info": {
   "codemirror_mode": {
    "name": "ipython",
    "version": 3
   },
   "file_extension": ".py",
   "mimetype": "text/x-python",
   "name": "python",
   "nbconvert_exporter": "python",
   "pygments_lexer": "ipython3",
   "version": "3.8.5"
  }
 },
 "nbformat": 4,
 "nbformat_minor": 4
}
